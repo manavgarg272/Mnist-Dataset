{
  "nbformat": 4,
  "nbformat_minor": 0,
  "metadata": {
    "colab": {
      "name": "MNIST_TensorFlow.ipynb",
      "version": "0.3.2",
      "provenance": []
    },
    "kernelspec": {
      "name": "python3",
      "display_name": "Python 3"
    }
  },
  "cells": [
    {
      "cell_type": "code",
      "metadata": {
        "id": "iVNfvuETzi_3",
        "colab_type": "code",
        "colab": {}
      },
      "source": [
        "import tensorflow as tf"
      ],
      "execution_count": 0,
      "outputs": []
    },
    {
      "cell_type": "code",
      "metadata": {
        "id": "wqxcd4wbznHK",
        "colab_type": "code",
        "colab": {}
      },
      "source": [
        "from tensorflow.examples.tutorials.mnist import input_data"
      ],
      "execution_count": 0,
      "outputs": []
    },
    {
      "cell_type": "code",
      "metadata": {
        "id": "zKLuyy7bz-fR",
        "colab_type": "code",
        "colab": {}
      },
      "source": [
        "mnist = input_data.read_data_sets(\"MNIST_data/\",one_hot = True)"
      ],
      "execution_count": 0,
      "outputs": []
    },
    {
      "cell_type": "code",
      "metadata": {
        "id": "-CbqNpSD0ieP",
        "colab_type": "code",
        "outputId": "870e877b-9b95-4c88-aaf6-3616f2ab9186",
        "colab": {
          "base_uri": "https://localhost:8080/",
          "height": 54
        }
      },
      "source": [
        "mnist"
      ],
      "execution_count": 0,
      "outputs": [
        {
          "output_type": "execute_result",
          "data": {
            "text/plain": [
              "Datasets(train=<tensorflow.contrib.learn.python.learn.datasets.mnist.DataSet object at 0x7f95de0e57b8>, validation=<tensorflow.contrib.learn.python.learn.datasets.mnist.DataSet object at 0x7f95de1da748>, test=<tensorflow.contrib.learn.python.learn.datasets.mnist.DataSet object at 0x7f95de1da7f0>)"
            ]
          },
          "metadata": {
            "tags": []
          },
          "execution_count": 108
        }
      ]
    },
    {
      "cell_type": "code",
      "metadata": {
        "id": "tMChtJEa0qL5",
        "colab_type": "code",
        "outputId": "c647e885-9ae5-43df-d08f-ed9c608f87c5",
        "colab": {
          "base_uri": "https://localhost:8080/",
          "height": 34
        }
      },
      "source": [
        "mnist.train.images.shape"
      ],
      "execution_count": 0,
      "outputs": [
        {
          "output_type": "execute_result",
          "data": {
            "text/plain": [
              "(55000, 784)"
            ]
          },
          "metadata": {
            "tags": []
          },
          "execution_count": 109
        }
      ]
    },
    {
      "cell_type": "code",
      "metadata": {
        "id": "fMcrcYr60pEO",
        "colab_type": "code",
        "outputId": "77674909-0a6c-470c-ead5-a4c5174b3849",
        "colab": {
          "base_uri": "https://localhost:8080/",
          "height": 34
        }
      },
      "source": [
        "mnist.train.labels[0]"
      ],
      "execution_count": 0,
      "outputs": [
        {
          "output_type": "execute_result",
          "data": {
            "text/plain": [
              "array([0., 0., 0., 0., 0., 0., 0., 1., 0., 0.])"
            ]
          },
          "metadata": {
            "tags": []
          },
          "execution_count": 110
        }
      ]
    },
    {
      "cell_type": "code",
      "metadata": {
        "id": "i5ZVyjZh1SWT",
        "colab_type": "code",
        "colab": {}
      },
      "source": [
        "import numpy as np \n",
        "from matplotlib import pyplot as plt "
      ],
      "execution_count": 0,
      "outputs": []
    },
    {
      "cell_type": "code",
      "metadata": {
        "id": "r71pqp3W1sDX",
        "colab_type": "code",
        "outputId": "8d9b0be2-b9f3-44d1-c3b2-f65ee1c878be",
        "colab": {
          "base_uri": "https://localhost:8080/",
          "height": 347
        }
      },
      "source": [
        "first_image = mnist.train.images[111]\n",
        "first_image = np.array(first_image,dtype = \"float\")\n",
        "first_image = first_image.reshape((28,28))\n",
        "plt.imshow(first_image)\n",
        "plt.show()"
      ],
      "execution_count": 0,
      "outputs": [
        {
          "output_type": "display_data",
          "data": {
            "image/png": "[encoded data removed]",
            "text/plain": [
              "<Figure size 576x396 with 1 Axes>"
            ]
          },
          "metadata": {
            "tags": []
          }
        }
      ]
    },
    {
      "cell_type": "code",
      "metadata": {
        "id": "aSyERGWj2l4o",
        "colab_type": "code",
        "colab": {}
      },
      "source": [
        "n_input = 784\n",
        "n_hidden_1 = 400 \n",
        "n_hidden_2 = 400\n",
        "n_classes = 10 \n",
        "\n",
        "weights = {\n",
        "    'h1' : tf.Variable(tf.random_normal([n_input,n_hidden_1])),\n",
        "    'h2' : tf.Variable(tf.random_normal([n_hidden_1,n_hidden_2])),\n",
        "    'out': tf.Variable(tf.random_normal([n_hidden_2,n_classes]))\n",
        "}\n",
        "\n",
        "biases = {\n",
        "    \n",
        "    'h1' : tf.Variable(tf.random_normal([n_hidden_1])),\n",
        "    'h2' : tf.Variable(tf.random_normal([n_hidden_2])),\n",
        "    'out' : tf.Variable(tf.random_normal([n_classes]))\n",
        "}\n",
        "\n"
      ],
      "execution_count": 0,
      "outputs": []
    },
    {
      "cell_type": "code",
      "metadata": {
        "id": "SVl8eNjT9OER",
        "colab_type": "code",
        "colab": {}
      },
      "source": [
        "def forward_propagation(x,weights,biases):\n",
        "  in_layer_1= tf.add(tf.matmul(x,weights['h1']),biases['h1']) \n",
        "  output_layer1 = tf.nn.relu(in_layer_1)\n",
        "  \n",
        "  in_layer_2 = tf.add(tf.matmul(output_layer1,weights['h2']),biases['h2'])\n",
        "  output_layer2 = tf.nn.relu(in_layer_2)\n",
        "  \n",
        "  output = tf.add(tf.matmul(output_layer2 , weights['out']),biases['out'])\n",
        "  return output\n"
      ],
      "execution_count": 0,
      "outputs": []
    },
    {
      "cell_type": "code",
      "metadata": {
        "id": "efyOYViT_Dci",
        "colab_type": "code",
        "colab": {}
      },
      "source": [
        "x = tf.placeholder(\"float\",[None , n_input])\n",
        "y = tf.placeholder(tf.int32 , [None,n_classes])\n",
        "pred = forward_propagation(x,weights,biases)"
      ],
      "execution_count": 0,
      "outputs": []
    },
    {
      "cell_type": "code",
      "metadata": {
        "id": "T9EQHatGFH8p",
        "colab_type": "code",
        "colab": {}
      },
      "source": [
        "cost = tf.reduce_mean(tf.nn.softmax_cross_entropy_with_logits(logits = pred, labels = y))"
      ],
      "execution_count": 0,
      "outputs": []
    },
    {
      "cell_type": "code",
      "metadata": {
        "id": "gti3togqG9Nh",
        "colab_type": "code",
        "colab": {}
      },
      "source": [
        "optimizer = tf.train.AdamOptimizer(learning_rate = 0.01)\n",
        "optimize = optimizer.minimize(cost)"
      ],
      "execution_count": 0,
      "outputs": []
    },
    {
      "cell_type": "code",
      "metadata": {
        "id": "Xkho-hG4HYFQ",
        "colab_type": "code",
        "colab": {}
      },
      "source": [
        "sess = tf.Session()\n",
        "sess.run(tf.global_variables_initializer())\n"
      ],
      "execution_count": 0,
      "outputs": []
    },
    {
      "cell_type": "code",
      "metadata": {
        "id": "vn9Y0-fCH18U",
        "colab_type": "code",
        "outputId": "cefb5be9-c351-4372-9398-df328bfd3556",
        "colab": {
          "base_uri": "https://localhost:8080/",
          "height": 425
        }
      },
      "source": [
        "for i in range(25):\n",
        "  c,_ = sess.run([cost,optimize] , feed_dict = {x:mnist.train.images, y:mnist.train.labels})\n",
        "  print(c)"
      ],
      "execution_count": 0,
      "outputs": [
        {
          "output_type": "stream",
          "text": [
            "211.04794\n",
            "180.05753\n",
            "165.69582\n",
            "162.0648\n",
            "161.35065\n",
            "158.16391\n",
            "151.01732\n",
            "141.45152\n",
            "124.09428\n",
            "117.61445\n",
            "112.10169\n",
            "107.05653\n",
            "102.33114\n",
            "98.057365\n",
            "94.26973\n",
            "91.03273\n",
            "88.21067\n",
            "85.5958\n",
            "82.90012\n",
            "79.994484\n",
            "76.92033\n",
            "73.883865\n",
            "71.02725\n",
            "68.51309\n"
          ],
          "name": "stdout"
        }
      ]
    },
    {
      "cell_type": "code",
      "metadata": {
        "id": "OtGRSQvd__xS",
        "colab_type": "code",
        "colab": {}
      },
      "source": [
        "pred = forward_propagation(x,weights,biases)\n",
        "predictions = tf.argmax(pred,1)\n",
        "true_labels = tf.argmax(y,1)\n",
        "correct_predictions = tf.equal(predictions,true_labels)"
      ],
      "execution_count": 0,
      "outputs": []
    },
    {
      "cell_type": "code",
      "metadata": {
        "id": "rMiB9gvWAl37",
        "colab_type": "code",
        "outputId": "f25397ac-8777-4f95-9ed0-ee1fe1bc223f",
        "colab": {
          "base_uri": "https://localhost:8080/",
          "height": 34
        }
      },
      "source": [
        "predictions_eval,labels,correct_pred = sess.run([predictions, true_labels,correct_predictions] , feed_dict = {x:mnist.test.images , y:mnist.test.labels})\n",
        "predictions_eval ,labels"
      ],
      "execution_count": 0,
      "outputs": [
        {
          "output_type": "execute_result",
          "data": {
            "text/plain": [
              "(array([7, 2, 1, ..., 4, 5, 6]), array([7, 2, 1, ..., 4, 5, 6]))"
            ]
          },
          "metadata": {
            "tags": []
          },
          "execution_count": 122
        }
      ]
    },
    {
      "cell_type": "code",
      "metadata": {
        "id": "VPS7YB3YD8-G",
        "colab_type": "code",
        "outputId": "95a26144-9f58-463b-a42c-d823e1e27f07",
        "colab": {
          "base_uri": "https://localhost:8080/",
          "height": 34
        }
      },
      "source": [
        "correct_pred.sum()"
      ],
      "execution_count": 0,
      "outputs": [
        {
          "output_type": "execute_result",
          "data": {
            "text/plain": [
              "9021"
            ]
          },
          "metadata": {
            "tags": []
          },
          "execution_count": 123
        }
      ]
    },
    {
      "cell_type": "code",
      "metadata": {
        "id": "zBLBGI_fRSaA",
        "colab_type": "code",
        "outputId": "a063a345-5fae-4aa8-fca0-f0e144405437",
        "colab": {
          "base_uri": "https://localhost:8080/",
          "height": 34
        }
      },
      "source": [
        ""
      ],
      "execution_count": 0,
      "outputs": [
        {
          "output_type": "stream",
          "text": [
            "Using TensorFlow backend.\n"
          ],
          "name": "stderr"
        }
      ]
    }
  ]
}